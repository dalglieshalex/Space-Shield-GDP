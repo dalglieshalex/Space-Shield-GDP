{
 "cells": [
  {
   "cell_type": "markdown",
   "metadata": {},
   "source": [
    "# Introduction"
   ]
  },
  {
   "cell_type": "markdown",
   "metadata": {},
   "source": [
    "The following document describes the functions and outputs of the BLE_objects.py file. To run this notebook you will need to upload BLE_objects.py to the Jupyter home directory where this file is running. This notebook will be updated with descriptions of other files as the project progresses. "
   ]
  },
  {
   "cell_type": "markdown",
   "metadata": {},
   "source": [
    "This code uses object orientated programming to make the functions prettier on the command line and to make it easier to add new BLE's.\n",
    "The parent class is called 'BLE' and contains three functions alongside the standard __init__ function: __drange__, __graph__ and __arr__. These functions can be called by all BLE child classes, their outputs are described below. The child classes correspond to each BLE equation and consist of an equation for the ballistic region and an equation for the vapour region."
   ]
  },
  {
   "cell_type": "markdown",
   "metadata": {},
   "source": [
    "# The parent class"
   ]
  },
  {
   "cell_type": "markdown",
   "metadata": {},
   "source": [
    "The variables are defined at the beginning of the parent class by the __init__ function as shown below. Data is imported from two excel files called __ShieldProperties.xlsx__ and __ProjectileProperties.xlsx__ that each contain different sheets for different shields and projectiles respectively."
   ]
  },
  {
   "cell_type": "markdown",
   "metadata": {},
   "source": [
    "When first using this class make sure to change the file directories of __ShieldProperties.xlsx__ and __ProjectileProperties.xlsx__ to the location of your stored files."
   ]
  },
  {
   "cell_type": "code",
   "execution_count": 2,
   "metadata": {},
   "outputs": [],
   "source": [
    "from BLE_objects import *"
   ]
  },
  {
   "cell_type": "code",
   "execution_count": 3,
   "metadata": {},
   "outputs": [],
   "source": [
    "class BLE:\n",
    "    def __init__(self, shieldsheet, projsheet):\n",
    "        \"\"\"\n",
    "        This function defines the variables from a given shield sheet and\n",
    "        projectile sheet\n",
    "        \"\"\"\n",
    "        varis = pd.DataFrame(pd.read_excel(\n",
    "            r'C:\\Users\\dalgl\\OneDrive\\Documents\\4th year\\GDP\\Space-Shield-GDP\\ShieldProperties.xlsx',\n",
    "            sheet_name=shieldsheet, index_col=0,\n",
    "            header=0, dtype={'denotion': str,\n",
    "                             'Value': float}))\n",
    "        # import data from excel sheet and convert to numpy array\n",
    "        varip = pd.DataFrame(pd.read_excel(\n",
    "            r'C:\\Users\\dalgl\\OneDrive\\Documents\\4th year\\GDP\\Space-Shield-GDP\\ProjectileProperties.xlsx',\n",
    "            sheet_name=projsheet, index_col=0, header=0,\n",
    "            dtype={'Value': float}))\n",
    "\n",
    "        # convert pandas dataframe to numpy array\n",
    "        varo = varis.values  \n",
    "        vara = varip.values\n",
    "\n",
    "        # Assign variables for shield\n",
    "        self.S1 = varo[0, 1]\n",
    "        self.t_ob = varo[1, 1]\n",
    "        self.rho_b = varo[2, 1]\n",
    "        self.Arho_b = varo[3, 1]\n",
    "        self.Sigma = varo[4, 1]\n",
    "        self.t_b = varo[5, 1]\n",
    "        self.S2 = varo[6, 1]\n",
    "        self.t_wall = varo[7, 1]\n",
    "        # assign variablesfor projectile\n",
    "        self.di = vara[0, 0]\n",
    "        self.rho_p = vara[1, 0]\n",
    "        # assign input variables \n",
    "        self.impact_angle = 0\n",
    "        self.vel = 1\n",
    "        # create dcrit arrays\n",
    "        self.rngdcrit = []\n",
    "\n",
    "        self.maxvel = 14\n",
    "        self.minvel = 0.5\n",
    "        # set shatter region limits\n",
    "        # ideally shock analysis done to work this out\n",
    "        self.v_shat = 3 # kms^-1\n",
    "        self.v_vap = 7 # kms^-1"
   ]
  },
  {
   "cell_type": "markdown",
   "metadata": {},
   "source": [
    "Each variable can be called individually from the parent and child classes."
   ]
  },
  {
   "cell_type": "code",
   "execution_count": 8,
   "metadata": {},
   "outputs": [
    {
     "name": "stdout",
     "output_type": "stream",
     "text": [
      "56.9998\n",
      "56.9998\n"
     ]
    }
   ],
   "source": [
    "print(BLE('Whipple', 'Al 6061-T6').Sigma)\n",
    "\n",
    "print(Christiansen('Whipple', 'Al 6061-T6').Sigma)"
   ]
  },
  {
   "cell_type": "markdown",
   "metadata": {},
   "source": [
    "__drange__ combines the ballistic, transition and vapour regions. It creates a transition region by linear interpolation between the ballistic function value at shatter velocity, v_shat, and the vapour function value at the velocity where the projectile  has completely melted, v_vap. It can only be called inside a child class."
   ]
  },
  {
   "cell_type": "markdown",
   "metadata": {},
   "source": [
    "__drange__ can also be used to extract a specific critical diameter in cm for a given velocity in kms^-1 in the range minvel-maxvel (set at 0.5 and 14 for this case). "
   ]
  },
  {
   "cell_type": "code",
   "execution_count": 3,
   "metadata": {},
   "outputs": [
    {
     "data": {
      "text/plain": [
       "0.3628837549124363"
      ]
     },
     "execution_count": 3,
     "metadata": {},
     "output_type": "execute_result"
    }
   ],
   "source": [
    "Christiansen('Whipple', 'Al 6061-T6').drange(4) # kms^-1"
   ]
  },
  {
   "cell_type": "markdown",
   "metadata": {},
   "source": [
    "__graph__ outputs a ballistic limit curve"
   ]
  },
  {
   "cell_type": "code",
   "execution_count": 6,
   "metadata": {},
   "outputs": [
    {
     "data": {
      "image/png": "[encoded data removed]",
      "text/plain": [
       "<Figure size 432x288 with 1 Axes>"
      ]
     },
     "metadata": {
      "needs_background": "light"
     },
     "output_type": "display_data"
    }
   ],
   "source": [
    "Christiansen('Whipple', 'Al 6061-T6').graph()"
   ]
  },
  {
   "cell_type": "code",
   "execution_count": 7,
   "metadata": {},
   "outputs": [
    {
     "data": {
      "image/png": "[encoded data removed]",
      "text/plain": [
       "<Figure size 432x288 with 1 Axes>"
      ]
     },
     "metadata": {
      "needs_background": "light"
     },
     "output_type": "display_data"
    }
   ],
   "source": [
    "SRL('HC SW', 'Al 6061-T6').graph()"
   ]
  },
  {
   "cell_type": "markdown",
   "metadata": {},
   "source": [
    "__arr__ outputs a 2D numpy array of critical diameters for a given ballistic limit equation. Examples of the execution are shown below and the outputs are given at the bottom of this notebook."
   ]
  },
  {
   "cell_type": "code",
   "execution_count": 8,
   "metadata": {},
   "outputs": [],
   "source": [
    "christarr = Christiansen('Whipple', 'Al 6061-T6').arr()"
   ]
  },
  {
   "cell_type": "markdown",
   "metadata": {},
   "source": [
    "and"
   ]
  },
  {
   "cell_type": "code",
   "execution_count": 9,
   "metadata": {},
   "outputs": [],
   "source": [
    "SRLarr = SRL('HC SW', 'Al 6061-T6').arr()"
   ]
  },
  {
   "cell_type": "markdown",
   "metadata": {},
   "source": [
    "# The Child Class"
   ]
  },
  {
   "cell_type": "markdown",
   "metadata": {},
   "source": [
    "The child cases inherit all the variables and functions from the parent case. Each child corresponds to an existing BLE and has two functions: one that describes behaviour in the ballistic region and one that describes behaviour in the vapour region. An example of a child class is shown below."
   ]
  },
  {
   "cell_type": "code",
   "execution_count": null,
   "metadata": {},
   "outputs": [],
   "source": [
    "class Christiansen(BLE):\n",
    "\n",
    "\n",
    "    def crit_d_bal(self, vel, impact_angle=0):\n",
    "        \"\"\"\n",
    "        Inputs: proj_vel is the particle velocity in the vapourised region\n",
    "                the impact angle is a positive angle between 0 and 90 degrees\n",
    "        Outputs:critcal projectile diameter for given velocity in the\n",
    "                ballistic region\n",
    "        \"\"\"\n",
    "        self.vel = vel\n",
    "        self.impact_angle = impact_angle\n",
    "        # determine angle in radians\n",
    "        theta = self.impact_angle * (np.pi/180)\n",
    "        # determine crit diameter\n",
    "        dc = (((self.t_wall*((self.Sigma/40) ** 0.5) + self.t_ob) /\n",
    "           (0.6*(np.cos(theta) ** (5/3)) * (self.rho_p ** 0.5)\n",
    "            * ((self.vel) ** (2/3)))) ** (18/19))\n",
    "        return dc\n",
    "\n",
    "\n",
    "    def crit_d_vap(self, vel, impact_angle=0):\n",
    "        \"\"\"\n",
    "        Inputs: proj_vel is the particle velocity in the vapourised region\n",
    "                the impact angle is a positive angle between 0 and 90 degrees\n",
    "        Outputs:critcal projectile diameter for given velocity in the\n",
    "                ballistic region\n",
    "        \"\"\"\n",
    "        self.vel = vel\n",
    "        self.impact_angle = impact_angle\n",
    "        # determine angle in radians\n",
    "        theta = self.impact_angle * (np.pi/180)\n",
    "        # determine crit diameter\n",
    "        dc = (3.918 * self.t_wall ** (2/3) * self.S1 ** (1/3)\n",
    "        * (self.Sigma/70) ** (1/3) * self.rho_p ** (-1/3)\n",
    "        * self.rho_b ** (-1/9) * (self.vel * np.cos(theta)) ** (-2/3))\n",
    "        return dc"
   ]
  },
  {
   "cell_type": "markdown",
   "metadata": {},
   "source": [
    "For each child to work with functions in the parent class its two functions must have the names __crit_d_bal__ and __crit_d_vap__ that describe behaviour in the ballistic and vapour regions respectively."
   ]
  },
  {
   "cell_type": "code",
   "execution_count": 10,
   "metadata": {},
   "outputs": [
    {
     "data": {
      "text/plain": [
       "array([[ 0.5       ,  0.82816223],\n",
       "       [ 0.6       ,  0.73808471],\n",
       "       [ 0.7       ,  0.66961323],\n",
       "       [ 0.8       ,  0.61545674],\n",
       "       [ 0.9       ,  0.5713348 ],\n",
       "       [ 1.        ,  0.53455354],\n",
       "       [ 1.1       ,  0.50332495],\n",
       "       [ 1.2       ,  0.47641124],\n",
       "       [ 1.3       ,  0.45292572],\n",
       "       [ 1.4       ,  0.43221498],\n",
       "       [ 1.5       ,  0.41378589],\n",
       "       [ 1.6       ,  0.39725862],\n",
       "       [ 1.7       ,  0.38233541],\n",
       "       [ 1.8       ,  0.36877924],\n",
       "       [ 1.9       ,  0.35639886],\n",
       "       [ 2.        ,  0.34503806],\n",
       "       [ 2.1       ,  0.33456791],\n",
       "       [ 2.2       ,  0.32488096],\n",
       "       [ 2.3       ,  0.31588683],\n",
       "       [ 2.4       ,  0.30750897],\n",
       "       [ 2.5       ,  0.29968201],\n",
       "       [ 2.6       ,  0.29234979],\n",
       "       [ 2.7       ,  0.28546373],\n",
       "       [ 2.8       ,  0.27898163],\n",
       "       [ 2.9       ,  0.27286659],\n",
       "       [ 3.        ,  0.26708621],\n",
       "       [ 3.1       ,  0.27666597],\n",
       "       [ 3.2       ,  0.28624572],\n",
       "       [ 3.3       ,  0.29582548],\n",
       "       [ 3.4       ,  0.30540523],\n",
       "       [ 3.5       ,  0.31498498],\n",
       "       [ 3.6       ,  0.32456474],\n",
       "       [ 3.7       ,  0.33414449],\n",
       "       [ 3.8       ,  0.34372425],\n",
       "       [ 3.9       ,  0.353304  ],\n",
       "       [ 4.        ,  0.36288375],\n",
       "       [ 4.1       ,  0.37246351],\n",
       "       [ 4.2       ,  0.38204326],\n",
       "       [ 4.3       ,  0.39162302],\n",
       "       [ 4.4       ,  0.40120277],\n",
       "       [ 4.5       ,  0.41078253],\n",
       "       [ 4.6       ,  0.42036228],\n",
       "       [ 4.7       ,  0.42994203],\n",
       "       [ 4.8       ,  0.43952179],\n",
       "       [ 4.9       ,  0.44910154],\n",
       "       [ 5.        ,  0.4586813 ],\n",
       "       [ 5.1       ,  0.46826105],\n",
       "       [ 5.2       ,  0.47784081],\n",
       "       [ 5.3       ,  0.48742056],\n",
       "       [ 5.4       ,  0.49700031],\n",
       "       [ 5.5       ,  0.50658007],\n",
       "       [ 5.6       ,  0.51615982],\n",
       "       [ 5.7       ,  0.52573958],\n",
       "       [ 5.8       ,  0.53531933],\n",
       "       [ 5.9       ,  0.54489908],\n",
       "       [ 6.        ,  0.55447884],\n",
       "       [ 6.1       ,  0.56405859],\n",
       "       [ 6.2       ,  0.57363835],\n",
       "       [ 6.3       ,  0.5832181 ],\n",
       "       [ 6.4       ,  0.59279786],\n",
       "       [ 6.5       ,  0.60237761],\n",
       "       [ 6.6       ,  0.61195736],\n",
       "       [ 6.7       ,  0.62153712],\n",
       "       [ 6.8       ,  0.63111687],\n",
       "       [ 6.9       ,  0.64069663],\n",
       "       [ 7.        ,  0.65027638],\n",
       "       [ 7.1       ,  0.64415608],\n",
       "       [ 7.2       ,  0.63817777],\n",
       "       [ 7.3       ,  0.63233628],\n",
       "       [ 7.4       ,  0.62662665],\n",
       "       [ 7.5       ,  0.62104418],\n",
       "       [ 7.6       ,  0.61558441],\n",
       "       [ 7.7       ,  0.61024307],\n",
       "       [ 7.8       ,  0.60501611],\n",
       "       [ 7.9       ,  0.59989965],\n",
       "       [ 8.        ,  0.59489002],\n",
       "       [ 8.1       ,  0.58998367],\n",
       "       [ 8.2       ,  0.58517726],\n",
       "       [ 8.3       ,  0.58046755],\n",
       "       [ 8.4       ,  0.57585147],\n",
       "       [ 8.5       ,  0.57132609],\n",
       "       [ 8.6       ,  0.56688858],\n",
       "       [ 8.7       ,  0.56253624],\n",
       "       [ 8.8       ,  0.55826649],\n",
       "       [ 8.9       ,  0.55407685],\n",
       "       [ 9.        ,  0.54996493],\n",
       "       [ 9.1       ,  0.54592847],\n",
       "       [ 9.2       ,  0.54196527],\n",
       "       [ 9.3       ,  0.53807322],\n",
       "       [ 9.4       ,  0.53425029],\n",
       "       [ 9.5       ,  0.53049456],\n",
       "       [ 9.6       ,  0.52680415],\n",
       "       [ 9.7       ,  0.52317725],\n",
       "       [ 9.8       ,  0.51961214],\n",
       "       [ 9.9       ,  0.51610715],\n",
       "       [10.        ,  0.51266068],\n",
       "       [10.1       ,  0.50927117],\n",
       "       [10.2       ,  0.50593714],\n",
       "       [10.3       ,  0.50265714],\n",
       "       [10.4       ,  0.49942979],\n",
       "       [10.5       ,  0.49625376],\n",
       "       [10.6       ,  0.49312774],\n",
       "       [10.7       ,  0.49005048],\n",
       "       [10.8       ,  0.48702079],\n",
       "       [10.9       ,  0.4840375 ],\n",
       "       [11.        ,  0.48109947],\n",
       "       [11.1       ,  0.47820563],\n",
       "       [11.2       ,  0.47535492],\n",
       "       [11.3       ,  0.47254631],\n",
       "       [11.4       ,  0.46977883],\n",
       "       [11.5       ,  0.46705151],\n",
       "       [11.6       ,  0.46436343],\n",
       "       [11.7       ,  0.4617137 ],\n",
       "       [11.8       ,  0.45910145],\n",
       "       [11.9       ,  0.45652584],\n",
       "       [12.        ,  0.45398605],\n",
       "       [12.1       ,  0.45148129],\n",
       "       [12.2       ,  0.4490108 ],\n",
       "       [12.3       ,  0.44657383],\n",
       "       [12.4       ,  0.44416965],\n",
       "       [12.5       ,  0.44179758],\n",
       "       [12.6       ,  0.43945692],\n",
       "       [12.7       ,  0.43714702],\n",
       "       [12.8       ,  0.43486724],\n",
       "       [12.9       ,  0.43261695],\n",
       "       [13.        ,  0.43039555],\n",
       "       [13.1       ,  0.42820244],\n",
       "       [13.2       ,  0.42603707],\n",
       "       [13.3       ,  0.42389886],\n",
       "       [13.4       ,  0.42178728],\n",
       "       [13.5       ,  0.4197018 ],\n",
       "       [13.6       ,  0.4176419 ],\n",
       "       [13.7       ,  0.4156071 ],\n",
       "       [13.8       ,  0.41359691],\n",
       "       [13.9       ,  0.41161084],\n",
       "       [14.        ,  0.40964845]])"
      ]
     },
     "execution_count": 10,
     "metadata": {},
     "output_type": "execute_result"
    }
   ],
   "source": [
    "christarr"
   ]
  },
  {
   "cell_type": "code",
   "execution_count": 11,
   "metadata": {},
   "outputs": [
    {
     "data": {
      "text/plain": [
       "array([[ 0.5       ,  6.4122871 ],\n",
       "       [ 0.6       ,  5.71483572],\n",
       "       [ 0.7       ,  5.18467536],\n",
       "       [ 0.8       ,  4.76535298],\n",
       "       [ 0.9       ,  4.42372599],\n",
       "       [ 1.        ,  4.13893638],\n",
       "       [ 1.1       ,  3.89713995],\n",
       "       [ 1.2       ,  3.68875272],\n",
       "       [ 1.3       ,  3.50690926],\n",
       "       [ 1.4       ,  3.34655032],\n",
       "       [ 1.5       ,  3.2038577 ],\n",
       "       [ 1.6       ,  3.07589047],\n",
       "       [ 1.7       ,  2.96034321],\n",
       "       [ 1.8       ,  2.85538064],\n",
       "       [ 1.9       ,  2.7595219 ],\n",
       "       [ 2.        ,  2.67155761],\n",
       "       [ 2.1       ,  2.59048945],\n",
       "       [ 2.2       ,  2.51548536],\n",
       "       [ 2.3       ,  2.44584575],\n",
       "       [ 2.4       ,  2.38097774],\n",
       "       [ 2.5       ,  2.32037522],\n",
       "       [ 2.6       ,  2.26360331],\n",
       "       [ 2.7       ,  2.21028603],\n",
       "       [ 2.8       ,  2.16009649],\n",
       "       [ 2.9       ,  2.11274903],\n",
       "       [ 3.        ,  2.06799275],\n",
       "       [ 3.1       ,  2.06723633],\n",
       "       [ 3.2       ,  2.06647992],\n",
       "       [ 3.3       ,  2.06572351],\n",
       "       [ 3.4       ,  2.0649671 ],\n",
       "       [ 3.5       ,  2.06421069],\n",
       "       [ 3.6       ,  2.06345428],\n",
       "       [ 3.7       ,  2.06269787],\n",
       "       [ 3.8       ,  2.06194145],\n",
       "       [ 3.9       ,  2.06118504],\n",
       "       [ 4.        ,  2.06042863],\n",
       "       [ 4.1       ,  2.05967222],\n",
       "       [ 4.2       ,  2.05891581],\n",
       "       [ 4.3       ,  2.0581594 ],\n",
       "       [ 4.4       ,  2.05740298],\n",
       "       [ 4.5       ,  2.05664657],\n",
       "       [ 4.6       ,  2.05589016],\n",
       "       [ 4.7       ,  2.05513375],\n",
       "       [ 4.8       ,  2.05437734],\n",
       "       [ 4.9       ,  2.05362093],\n",
       "       [ 5.        ,  2.05286452],\n",
       "       [ 5.1       ,  2.0521081 ],\n",
       "       [ 5.2       ,  2.05135169],\n",
       "       [ 5.3       ,  2.05059528],\n",
       "       [ 5.4       ,  2.04983887],\n",
       "       [ 5.5       ,  2.04908246],\n",
       "       [ 5.6       ,  2.04832605],\n",
       "       [ 5.7       ,  2.04756963],\n",
       "       [ 5.8       ,  2.04681322],\n",
       "       [ 5.9       ,  2.04605681],\n",
       "       [ 6.        ,  2.0453004 ],\n",
       "       [ 6.1       ,  2.04454399],\n",
       "       [ 6.2       ,  2.04378758],\n",
       "       [ 6.3       ,  2.04303117],\n",
       "       [ 6.4       ,  2.04227475],\n",
       "       [ 6.5       ,  2.04151834],\n",
       "       [ 6.6       ,  2.04076193],\n",
       "       [ 6.7       ,  2.04000552],\n",
       "       [ 6.8       ,  2.03924911],\n",
       "       [ 6.9       ,  2.0384927 ],\n",
       "       [ 7.        ,  2.03773628],\n",
       "       [ 7.1       ,  2.01855741],\n",
       "       [ 7.2       ,  1.99982353],\n",
       "       [ 7.3       ,  1.98151835],\n",
       "       [ 7.4       ,  1.96362638],\n",
       "       [ 7.5       ,  1.94613291],\n",
       "       [ 7.6       ,  1.92902391],\n",
       "       [ 7.7       ,  1.91228604],\n",
       "       [ 7.8       ,  1.89590659],\n",
       "       [ 7.9       ,  1.87987344],\n",
       "       [ 8.        ,  1.86417501],\n",
       "       [ 8.1       ,  1.84880026],\n",
       "       [ 8.2       ,  1.83373864],\n",
       "       [ 8.3       ,  1.81898008],\n",
       "       [ 8.4       ,  1.80451494],\n",
       "       [ 8.5       ,  1.79033398],\n",
       "       [ 8.6       ,  1.77642839],\n",
       "       [ 8.7       ,  1.7627897 ],\n",
       "       [ 8.8       ,  1.74940981],\n",
       "       [ 8.9       ,  1.73628095],\n",
       "       [ 9.        ,  1.72339568],\n",
       "       [ 9.1       ,  1.71074683],\n",
       "       [ 9.2       ,  1.69832755],\n",
       "       [ 9.3       ,  1.68613123],\n",
       "       [ 9.4       ,  1.67415155],\n",
       "       [ 9.5       ,  1.66238241],\n",
       "       [ 9.6       ,  1.65081795],\n",
       "       [ 9.7       ,  1.63945254],\n",
       "       [ 9.8       ,  1.62828075],\n",
       "       [ 9.9       ,  1.61729735],\n",
       "       [10.        ,  1.60649732],\n",
       "       [10.1       ,  1.5958758 ],\n",
       "       [10.2       ,  1.58542812],\n",
       "       [10.3       ,  1.57514978],\n",
       "       [10.4       ,  1.56503641],\n",
       "       [10.5       ,  1.55508383],\n",
       "       [10.6       ,  1.54528799],\n",
       "       [10.7       ,  1.53564497],\n",
       "       [10.8       ,  1.52615099],\n",
       "       [10.9       ,  1.5168024 ],\n",
       "       [11.        ,  1.50759567],\n",
       "       [11.1       ,  1.49852739],\n",
       "       [11.2       ,  1.48959426],\n",
       "       [11.3       ,  1.48079308],\n",
       "       [11.4       ,  1.47212076],\n",
       "       [11.5       ,  1.46357431],\n",
       "       [11.6       ,  1.45515083],\n",
       "       [11.7       ,  1.44684752],\n",
       "       [11.8       ,  1.43866165],\n",
       "       [11.9       ,  1.43059059],\n",
       "       [12.        ,  1.42263179],\n",
       "       [12.1       ,  1.41478276],\n",
       "       [12.2       ,  1.4070411 ],\n",
       "       [12.3       ,  1.39940449],\n",
       "       [12.4       ,  1.39187067],\n",
       "       [12.5       ,  1.38443742],\n",
       "       [12.6       ,  1.37710263],\n",
       "       [12.7       ,  1.36986423],\n",
       "       [12.8       ,  1.3627202 ],\n",
       "       [12.9       ,  1.35566858],\n",
       "       [13.        ,  1.34870749],\n",
       "       [13.1       ,  1.34183508],\n",
       "       [13.2       ,  1.33504955],\n",
       "       [13.3       ,  1.32834916],\n",
       "       [13.4       ,  1.32173221],\n",
       "       [13.5       ,  1.31519705],\n",
       "       [13.6       ,  1.30874208],\n",
       "       [13.7       ,  1.30236573],\n",
       "       [13.8       ,  1.29606649],\n",
       "       [13.9       ,  1.28984286],\n",
       "       [14.        ,  1.28369342]])"
      ]
     },
     "execution_count": 11,
     "metadata": {},
     "output_type": "execute_result"
    }
   ],
   "source": [
    "SRLarr"
   ]
  }
 ],
 "metadata": {
  "kernelspec": {
   "display_name": "Python 3",
   "language": "python",
   "name": "python3"
  },
  "language_info": {
   "codemirror_mode": {
    "name": "ipython",
    "version": 3
   },
   "file_extension": ".py",
   "mimetype": "text/x-python",
   "name": "python",
   "nbconvert_exporter": "python",
   "pygments_lexer": "ipython3",
   "version": "3.7.4"
  }
 },
 "nbformat": 4,
 "nbformat_minor": 2
}
